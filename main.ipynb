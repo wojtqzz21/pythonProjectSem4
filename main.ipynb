{
 "cells": [
  {
   "cell_type": "code",
   "execution_count": 5,
   "id": "initial_id",
   "metadata": {
    "collapsed": true,
    "ExecuteTime": {
     "end_time": "2024-04-13T18:01:32.907933Z",
     "start_time": "2024-04-13T18:01:32.453976Z"
    }
   },
   "outputs": [],
   "source": [
    "import pandas as pd\n",
    "import numpy as np\n",
    "import matplotlib.pyplot as plt"
   ]
  },
  {
   "cell_type": "code",
   "outputs": [],
   "source": [
    "headers = [\n",
    "    \"matchId\",\n",
    "    \"blueTeamControlWardsPlaced\",\n",
    "    \"blueTeamWardsPlaced\",\n",
    "    \"blueTeamTotalKills\",\n",
    "    \"blueTeamDragonKills\",\n",
    "    \"blueTeamHeraldKills\",\n",
    "    \"blueTeamTowersDestroyed\",\n",
    "    \"blueTeamInhibitorsDestroyed\",\n",
    "    \"blueTeamTurretPlatesDestroyed\",\n",
    "    \"FirstBlood\",\n",
    "    \"blueTeamMinionsKilled\",\n",
    "    \"blueTeamJungleMinions\",\n",
    "    \"blueTeamTotalGold\",\n",
    "    \"blueTeamXp\",\n",
    "    \"blueTeamTotalDamageToChamps\",\n",
    "    \"redTeamControlWardsPlaced\",\n",
    "    \"redTeamWardsPlaced\",\n",
    "    \"redTeamTotalKills\",\n",
    "    \"redTeamDragonKills\",\n",
    "    \"redTeamHeraldKills\",\n",
    "    \"redTeamTowersDestroyed\",\n",
    "    \"redTeamInhibitorsDestroyed\",\n",
    "    \"redTeamTurretPlatesDestroyed\",\n",
    "    \"redTeamMinionsKilled\",\n",
    "    \"redTeamJungleMinions\",\n",
    "    \"redTeamTotalGold\",\n",
    "    \"redTeamXp\",\n",
    "    \"redTeamTotalDamageToChamps\",\n",
    "    \"winner\",\n",
    "    \"placeholder\"\n",
    "]"
   ],
   "metadata": {
    "collapsed": false,
    "ExecuteTime": {
     "end_time": "2024-04-13T18:26:38.186720Z",
     "start_time": "2024-04-13T18:26:38.182550Z"
    }
   },
   "id": "6820facc48984b49",
   "execution_count": 27
  },
  {
   "cell_type": "code",
   "outputs": [
    {
     "data": {
      "text/plain": "             Unnamed: 0  Unnamed: 1  Unnamed: 2  Unnamed: 3  Unnamed: 4  \\\n0      EUW1_6882489515'           2          23           4           2   \n1      EUW1_6882416210'           2          46          12           1   \n2      EUW1_6881092720'           2          19          13           0   \n3      EUW1_6879405717'           3          28           8           0   \n4      EUW1_6879389461'           3          30          11           1   \n...                 ...         ...         ...         ...         ...   \n24220  EUW1_6879062849'           0          27           1           1   \n24221  EUW1_6878994449'           4          29           5           0   \n24222  EUW1_6878933095'           1          25          16           1   \n24223  EUW1_6883217488'           4          27          15           0   \n24224  EUW1_6883129810'           5          31          13           1   \n\n       Unnamed: 5  Unnamed: 6  Unnamed: 7  Unnamed: 8  Unnamed: 9  ...  \\\n0               0           0           0           7           0  ...   \n1               0           1           0          10           0  ...   \n2               0           0           0          11           0  ...   \n3               1           1           0           9           1  ...   \n4               1           1           0           7           0  ...   \n...           ...         ...         ...         ...         ...  ...   \n24220           0           0           0           5           0  ...   \n24221           0           0           0           4           0  ...   \n24222           1           1           0          11           0  ...   \n24223           0           1           0           9           0  ...   \n24224           0           1           0           2           1  ...   \n\n       Unnamed: 20  Unnamed: 21  Unnamed: 22  Unnamed: 23  Unnamed: 24  \\\n0                2            0            1          400           94   \n1                1            0            4          373           76   \n2                2            0            3          340           84   \n3                0            0            5          378           87   \n4                1            0            5          382           96   \n...            ...          ...          ...          ...          ...   \n24220            0            0            0          370          102   \n24221            1            0            2          365           80   \n24222            1            0            4          342           81   \n24223            2            0            2          341           74   \n24224            0            0            5          329           79   \n\n       Unnamed: 25  Unnamed: 26  Unnamed: 27  Unnamed: 28  Unnamed: 29  \n0            29637        32613        27239            1            0  \n1            28970        30320        36585            0            0  \n2            30510        29464        42984            0            0  \n3            25157        31069        28229            0            0  \n4            26052        29475        19245            1            0  \n...            ...          ...          ...          ...          ...  \n24220        26134        30760        22845            0            0  \n24221        25169        30857        29694            0            0  \n24222        30528        29566        36545            0            0  \n24223        31761        30573        42858            0            0  \n24224        25466        29127        23741            1            0  \n\n[24225 rows x 30 columns]",
      "text/html": "<div>\n<style scoped>\n    .dataframe tbody tr th:only-of-type {\n        vertical-align: middle;\n    }\n\n    .dataframe tbody tr th {\n        vertical-align: top;\n    }\n\n    .dataframe thead th {\n        text-align: right;\n    }\n</style>\n<table border=\"1\" class=\"dataframe\">\n  <thead>\n    <tr style=\"text-align: right;\">\n      <th></th>\n      <th>Unnamed: 0</th>\n      <th>Unnamed: 1</th>\n      <th>Unnamed: 2</th>\n      <th>Unnamed: 3</th>\n      <th>Unnamed: 4</th>\n      <th>Unnamed: 5</th>\n      <th>Unnamed: 6</th>\n      <th>Unnamed: 7</th>\n      <th>Unnamed: 8</th>\n      <th>Unnamed: 9</th>\n      <th>...</th>\n      <th>Unnamed: 20</th>\n      <th>Unnamed: 21</th>\n      <th>Unnamed: 22</th>\n      <th>Unnamed: 23</th>\n      <th>Unnamed: 24</th>\n      <th>Unnamed: 25</th>\n      <th>Unnamed: 26</th>\n      <th>Unnamed: 27</th>\n      <th>Unnamed: 28</th>\n      <th>Unnamed: 29</th>\n    </tr>\n  </thead>\n  <tbody>\n    <tr>\n      <th>0</th>\n      <td>EUW1_6882489515'</td>\n      <td>2</td>\n      <td>23</td>\n      <td>4</td>\n      <td>2</td>\n      <td>0</td>\n      <td>0</td>\n      <td>0</td>\n      <td>7</td>\n      <td>0</td>\n      <td>...</td>\n      <td>2</td>\n      <td>0</td>\n      <td>1</td>\n      <td>400</td>\n      <td>94</td>\n      <td>29637</td>\n      <td>32613</td>\n      <td>27239</td>\n      <td>1</td>\n      <td>0</td>\n    </tr>\n    <tr>\n      <th>1</th>\n      <td>EUW1_6882416210'</td>\n      <td>2</td>\n      <td>46</td>\n      <td>12</td>\n      <td>1</td>\n      <td>0</td>\n      <td>1</td>\n      <td>0</td>\n      <td>10</td>\n      <td>0</td>\n      <td>...</td>\n      <td>1</td>\n      <td>0</td>\n      <td>4</td>\n      <td>373</td>\n      <td>76</td>\n      <td>28970</td>\n      <td>30320</td>\n      <td>36585</td>\n      <td>0</td>\n      <td>0</td>\n    </tr>\n    <tr>\n      <th>2</th>\n      <td>EUW1_6881092720'</td>\n      <td>2</td>\n      <td>19</td>\n      <td>13</td>\n      <td>0</td>\n      <td>0</td>\n      <td>0</td>\n      <td>0</td>\n      <td>11</td>\n      <td>0</td>\n      <td>...</td>\n      <td>2</td>\n      <td>0</td>\n      <td>3</td>\n      <td>340</td>\n      <td>84</td>\n      <td>30510</td>\n      <td>29464</td>\n      <td>42984</td>\n      <td>0</td>\n      <td>0</td>\n    </tr>\n    <tr>\n      <th>3</th>\n      <td>EUW1_6879405717'</td>\n      <td>3</td>\n      <td>28</td>\n      <td>8</td>\n      <td>0</td>\n      <td>1</td>\n      <td>1</td>\n      <td>0</td>\n      <td>9</td>\n      <td>1</td>\n      <td>...</td>\n      <td>0</td>\n      <td>0</td>\n      <td>5</td>\n      <td>378</td>\n      <td>87</td>\n      <td>25157</td>\n      <td>31069</td>\n      <td>28229</td>\n      <td>0</td>\n      <td>0</td>\n    </tr>\n    <tr>\n      <th>4</th>\n      <td>EUW1_6879389461'</td>\n      <td>3</td>\n      <td>30</td>\n      <td>11</td>\n      <td>1</td>\n      <td>1</td>\n      <td>1</td>\n      <td>0</td>\n      <td>7</td>\n      <td>0</td>\n      <td>...</td>\n      <td>1</td>\n      <td>0</td>\n      <td>5</td>\n      <td>382</td>\n      <td>96</td>\n      <td>26052</td>\n      <td>29475</td>\n      <td>19245</td>\n      <td>1</td>\n      <td>0</td>\n    </tr>\n    <tr>\n      <th>...</th>\n      <td>...</td>\n      <td>...</td>\n      <td>...</td>\n      <td>...</td>\n      <td>...</td>\n      <td>...</td>\n      <td>...</td>\n      <td>...</td>\n      <td>...</td>\n      <td>...</td>\n      <td>...</td>\n      <td>...</td>\n      <td>...</td>\n      <td>...</td>\n      <td>...</td>\n      <td>...</td>\n      <td>...</td>\n      <td>...</td>\n      <td>...</td>\n      <td>...</td>\n      <td>...</td>\n    </tr>\n    <tr>\n      <th>24220</th>\n      <td>EUW1_6879062849'</td>\n      <td>0</td>\n      <td>27</td>\n      <td>1</td>\n      <td>1</td>\n      <td>0</td>\n      <td>0</td>\n      <td>0</td>\n      <td>5</td>\n      <td>0</td>\n      <td>...</td>\n      <td>0</td>\n      <td>0</td>\n      <td>0</td>\n      <td>370</td>\n      <td>102</td>\n      <td>26134</td>\n      <td>30760</td>\n      <td>22845</td>\n      <td>0</td>\n      <td>0</td>\n    </tr>\n    <tr>\n      <th>24221</th>\n      <td>EUW1_6878994449'</td>\n      <td>4</td>\n      <td>29</td>\n      <td>5</td>\n      <td>0</td>\n      <td>0</td>\n      <td>0</td>\n      <td>0</td>\n      <td>4</td>\n      <td>0</td>\n      <td>...</td>\n      <td>1</td>\n      <td>0</td>\n      <td>2</td>\n      <td>365</td>\n      <td>80</td>\n      <td>25169</td>\n      <td>30857</td>\n      <td>29694</td>\n      <td>0</td>\n      <td>0</td>\n    </tr>\n    <tr>\n      <th>24222</th>\n      <td>EUW1_6878933095'</td>\n      <td>1</td>\n      <td>25</td>\n      <td>16</td>\n      <td>1</td>\n      <td>1</td>\n      <td>1</td>\n      <td>0</td>\n      <td>11</td>\n      <td>0</td>\n      <td>...</td>\n      <td>1</td>\n      <td>0</td>\n      <td>4</td>\n      <td>342</td>\n      <td>81</td>\n      <td>30528</td>\n      <td>29566</td>\n      <td>36545</td>\n      <td>0</td>\n      <td>0</td>\n    </tr>\n    <tr>\n      <th>24223</th>\n      <td>EUW1_6883217488'</td>\n      <td>4</td>\n      <td>27</td>\n      <td>15</td>\n      <td>0</td>\n      <td>0</td>\n      <td>1</td>\n      <td>0</td>\n      <td>9</td>\n      <td>0</td>\n      <td>...</td>\n      <td>2</td>\n      <td>0</td>\n      <td>2</td>\n      <td>341</td>\n      <td>74</td>\n      <td>31761</td>\n      <td>30573</td>\n      <td>42858</td>\n      <td>0</td>\n      <td>0</td>\n    </tr>\n    <tr>\n      <th>24224</th>\n      <td>EUW1_6883129810'</td>\n      <td>5</td>\n      <td>31</td>\n      <td>13</td>\n      <td>1</td>\n      <td>0</td>\n      <td>1</td>\n      <td>0</td>\n      <td>2</td>\n      <td>1</td>\n      <td>...</td>\n      <td>0</td>\n      <td>0</td>\n      <td>5</td>\n      <td>329</td>\n      <td>79</td>\n      <td>25466</td>\n      <td>29127</td>\n      <td>23741</td>\n      <td>1</td>\n      <td>0</td>\n    </tr>\n  </tbody>\n</table>\n<p>24225 rows × 30 columns</p>\n</div>"
     },
     "execution_count": 28,
     "metadata": {},
     "output_type": "execute_result"
    }
   ],
   "source": [
    "df = pd.read_csv(\"lol_data.csv\")\n",
    "df"
   ],
   "metadata": {
    "collapsed": false,
    "ExecuteTime": {
     "end_time": "2024-04-13T18:26:38.786853Z",
     "start_time": "2024-04-13T18:26:38.704971Z"
    }
   },
   "id": "32a502e855bc9a47",
   "execution_count": 28
  },
  {
   "cell_type": "code",
   "outputs": [
    {
     "data": {
      "text/plain": "                matchId  blueTeamControlWardsPlaced  blueTeamWardsPlaced  \\\n0      EUW1_6882489515'                           2                   23   \n1      EUW1_6882416210'                           2                   46   \n2      EUW1_6881092720'                           2                   19   \n3      EUW1_6879405717'                           3                   28   \n4      EUW1_6879389461'                           3                   30   \n...                 ...                         ...                  ...   \n24220  EUW1_6879062849'                           0                   27   \n24221  EUW1_6878994449'                           4                   29   \n24222  EUW1_6878933095'                           1                   25   \n24223  EUW1_6883217488'                           4                   27   \n24224  EUW1_6883129810'                           5                   31   \n\n       blueTeamTotalKills  blueTeamDragonKills  blueTeamHeraldKills  \\\n0                       4                    2                    0   \n1                      12                    1                    0   \n2                      13                    0                    0   \n3                       8                    0                    1   \n4                      11                    1                    1   \n...                   ...                  ...                  ...   \n24220                   1                    1                    0   \n24221                   5                    0                    0   \n24222                  16                    1                    1   \n24223                  15                    0                    0   \n24224                  13                    1                    0   \n\n       blueTeamTowersDestroyed  blueTeamInhibitorsDestroyed  \\\n0                            0                            0   \n1                            1                            0   \n2                            0                            0   \n3                            1                            0   \n4                            1                            0   \n...                        ...                          ...   \n24220                        0                            0   \n24221                        0                            0   \n24222                        1                            0   \n24223                        1                            0   \n24224                        1                            0   \n\n       blueTeamTurretPlatesDestroyed  FirstBlood  ...  redTeamTowersDestroyed  \\\n0                                  7           0  ...                       2   \n1                                 10           0  ...                       1   \n2                                 11           0  ...                       2   \n3                                  9           1  ...                       0   \n4                                  7           0  ...                       1   \n...                              ...         ...  ...                     ...   \n24220                              5           0  ...                       0   \n24221                              4           0  ...                       1   \n24222                             11           0  ...                       1   \n24223                              9           0  ...                       2   \n24224                              2           1  ...                       0   \n\n       redTeamInhibitorsDestroyed  redTeamTurretPlatesDestroyed  \\\n0                               0                             1   \n1                               0                             4   \n2                               0                             3   \n3                               0                             5   \n4                               0                             5   \n...                           ...                           ...   \n24220                           0                             0   \n24221                           0                             2   \n24222                           0                             4   \n24223                           0                             2   \n24224                           0                             5   \n\n       redTeamMinionsKilled  redTeamJungleMinions  redTeamTotalGold  \\\n0                       400                    94             29637   \n1                       373                    76             28970   \n2                       340                    84             30510   \n3                       378                    87             25157   \n4                       382                    96             26052   \n...                     ...                   ...               ...   \n24220                   370                   102             26134   \n24221                   365                    80             25169   \n24222                   342                    81             30528   \n24223                   341                    74             31761   \n24224                   329                    79             25466   \n\n       redTeamXp  redTeamTotalDamageToChamps  winner  placeholder  \n0          32613                       27239       1            0  \n1          30320                       36585       0            0  \n2          29464                       42984       0            0  \n3          31069                       28229       0            0  \n4          29475                       19245       1            0  \n...          ...                         ...     ...          ...  \n24220      30760                       22845       0            0  \n24221      30857                       29694       0            0  \n24222      29566                       36545       0            0  \n24223      30573                       42858       0            0  \n24224      29127                       23741       1            0  \n\n[24225 rows x 30 columns]",
      "text/html": "<div>\n<style scoped>\n    .dataframe tbody tr th:only-of-type {\n        vertical-align: middle;\n    }\n\n    .dataframe tbody tr th {\n        vertical-align: top;\n    }\n\n    .dataframe thead th {\n        text-align: right;\n    }\n</style>\n<table border=\"1\" class=\"dataframe\">\n  <thead>\n    <tr style=\"text-align: right;\">\n      <th></th>\n      <th>matchId</th>\n      <th>blueTeamControlWardsPlaced</th>\n      <th>blueTeamWardsPlaced</th>\n      <th>blueTeamTotalKills</th>\n      <th>blueTeamDragonKills</th>\n      <th>blueTeamHeraldKills</th>\n      <th>blueTeamTowersDestroyed</th>\n      <th>blueTeamInhibitorsDestroyed</th>\n      <th>blueTeamTurretPlatesDestroyed</th>\n      <th>FirstBlood</th>\n      <th>...</th>\n      <th>redTeamTowersDestroyed</th>\n      <th>redTeamInhibitorsDestroyed</th>\n      <th>redTeamTurretPlatesDestroyed</th>\n      <th>redTeamMinionsKilled</th>\n      <th>redTeamJungleMinions</th>\n      <th>redTeamTotalGold</th>\n      <th>redTeamXp</th>\n      <th>redTeamTotalDamageToChamps</th>\n      <th>winner</th>\n      <th>placeholder</th>\n    </tr>\n  </thead>\n  <tbody>\n    <tr>\n      <th>0</th>\n      <td>EUW1_6882489515'</td>\n      <td>2</td>\n      <td>23</td>\n      <td>4</td>\n      <td>2</td>\n      <td>0</td>\n      <td>0</td>\n      <td>0</td>\n      <td>7</td>\n      <td>0</td>\n      <td>...</td>\n      <td>2</td>\n      <td>0</td>\n      <td>1</td>\n      <td>400</td>\n      <td>94</td>\n      <td>29637</td>\n      <td>32613</td>\n      <td>27239</td>\n      <td>1</td>\n      <td>0</td>\n    </tr>\n    <tr>\n      <th>1</th>\n      <td>EUW1_6882416210'</td>\n      <td>2</td>\n      <td>46</td>\n      <td>12</td>\n      <td>1</td>\n      <td>0</td>\n      <td>1</td>\n      <td>0</td>\n      <td>10</td>\n      <td>0</td>\n      <td>...</td>\n      <td>1</td>\n      <td>0</td>\n      <td>4</td>\n      <td>373</td>\n      <td>76</td>\n      <td>28970</td>\n      <td>30320</td>\n      <td>36585</td>\n      <td>0</td>\n      <td>0</td>\n    </tr>\n    <tr>\n      <th>2</th>\n      <td>EUW1_6881092720'</td>\n      <td>2</td>\n      <td>19</td>\n      <td>13</td>\n      <td>0</td>\n      <td>0</td>\n      <td>0</td>\n      <td>0</td>\n      <td>11</td>\n      <td>0</td>\n      <td>...</td>\n      <td>2</td>\n      <td>0</td>\n      <td>3</td>\n      <td>340</td>\n      <td>84</td>\n      <td>30510</td>\n      <td>29464</td>\n      <td>42984</td>\n      <td>0</td>\n      <td>0</td>\n    </tr>\n    <tr>\n      <th>3</th>\n      <td>EUW1_6879405717'</td>\n      <td>3</td>\n      <td>28</td>\n      <td>8</td>\n      <td>0</td>\n      <td>1</td>\n      <td>1</td>\n      <td>0</td>\n      <td>9</td>\n      <td>1</td>\n      <td>...</td>\n      <td>0</td>\n      <td>0</td>\n      <td>5</td>\n      <td>378</td>\n      <td>87</td>\n      <td>25157</td>\n      <td>31069</td>\n      <td>28229</td>\n      <td>0</td>\n      <td>0</td>\n    </tr>\n    <tr>\n      <th>4</th>\n      <td>EUW1_6879389461'</td>\n      <td>3</td>\n      <td>30</td>\n      <td>11</td>\n      <td>1</td>\n      <td>1</td>\n      <td>1</td>\n      <td>0</td>\n      <td>7</td>\n      <td>0</td>\n      <td>...</td>\n      <td>1</td>\n      <td>0</td>\n      <td>5</td>\n      <td>382</td>\n      <td>96</td>\n      <td>26052</td>\n      <td>29475</td>\n      <td>19245</td>\n      <td>1</td>\n      <td>0</td>\n    </tr>\n    <tr>\n      <th>...</th>\n      <td>...</td>\n      <td>...</td>\n      <td>...</td>\n      <td>...</td>\n      <td>...</td>\n      <td>...</td>\n      <td>...</td>\n      <td>...</td>\n      <td>...</td>\n      <td>...</td>\n      <td>...</td>\n      <td>...</td>\n      <td>...</td>\n      <td>...</td>\n      <td>...</td>\n      <td>...</td>\n      <td>...</td>\n      <td>...</td>\n      <td>...</td>\n      <td>...</td>\n      <td>...</td>\n    </tr>\n    <tr>\n      <th>24220</th>\n      <td>EUW1_6879062849'</td>\n      <td>0</td>\n      <td>27</td>\n      <td>1</td>\n      <td>1</td>\n      <td>0</td>\n      <td>0</td>\n      <td>0</td>\n      <td>5</td>\n      <td>0</td>\n      <td>...</td>\n      <td>0</td>\n      <td>0</td>\n      <td>0</td>\n      <td>370</td>\n      <td>102</td>\n      <td>26134</td>\n      <td>30760</td>\n      <td>22845</td>\n      <td>0</td>\n      <td>0</td>\n    </tr>\n    <tr>\n      <th>24221</th>\n      <td>EUW1_6878994449'</td>\n      <td>4</td>\n      <td>29</td>\n      <td>5</td>\n      <td>0</td>\n      <td>0</td>\n      <td>0</td>\n      <td>0</td>\n      <td>4</td>\n      <td>0</td>\n      <td>...</td>\n      <td>1</td>\n      <td>0</td>\n      <td>2</td>\n      <td>365</td>\n      <td>80</td>\n      <td>25169</td>\n      <td>30857</td>\n      <td>29694</td>\n      <td>0</td>\n      <td>0</td>\n    </tr>\n    <tr>\n      <th>24222</th>\n      <td>EUW1_6878933095'</td>\n      <td>1</td>\n      <td>25</td>\n      <td>16</td>\n      <td>1</td>\n      <td>1</td>\n      <td>1</td>\n      <td>0</td>\n      <td>11</td>\n      <td>0</td>\n      <td>...</td>\n      <td>1</td>\n      <td>0</td>\n      <td>4</td>\n      <td>342</td>\n      <td>81</td>\n      <td>30528</td>\n      <td>29566</td>\n      <td>36545</td>\n      <td>0</td>\n      <td>0</td>\n    </tr>\n    <tr>\n      <th>24223</th>\n      <td>EUW1_6883217488'</td>\n      <td>4</td>\n      <td>27</td>\n      <td>15</td>\n      <td>0</td>\n      <td>0</td>\n      <td>1</td>\n      <td>0</td>\n      <td>9</td>\n      <td>0</td>\n      <td>...</td>\n      <td>2</td>\n      <td>0</td>\n      <td>2</td>\n      <td>341</td>\n      <td>74</td>\n      <td>31761</td>\n      <td>30573</td>\n      <td>42858</td>\n      <td>0</td>\n      <td>0</td>\n    </tr>\n    <tr>\n      <th>24224</th>\n      <td>EUW1_6883129810'</td>\n      <td>5</td>\n      <td>31</td>\n      <td>13</td>\n      <td>1</td>\n      <td>0</td>\n      <td>1</td>\n      <td>0</td>\n      <td>2</td>\n      <td>1</td>\n      <td>...</td>\n      <td>0</td>\n      <td>0</td>\n      <td>5</td>\n      <td>329</td>\n      <td>79</td>\n      <td>25466</td>\n      <td>29127</td>\n      <td>23741</td>\n      <td>1</td>\n      <td>0</td>\n    </tr>\n  </tbody>\n</table>\n<p>24225 rows × 30 columns</p>\n</div>"
     },
     "execution_count": 29,
     "metadata": {},
     "output_type": "execute_result"
    }
   ],
   "source": [
    "df.columns = headers\n",
    "df"
   ],
   "metadata": {
    "collapsed": false,
    "ExecuteTime": {
     "end_time": "2024-04-13T18:26:39.965676Z",
     "start_time": "2024-04-13T18:26:39.945395Z"
    }
   },
   "id": "29cb17b78a35a270",
   "execution_count": 29
  },
  {
   "cell_type": "code",
   "outputs": [
    {
     "data": {
      "text/plain": "       blueTeamControlWardsPlaced  blueTeamWardsPlaced  blueTeamTotalKills  \\\n0                               2                   23                   4   \n1                               2                   46                  12   \n2                               2                   19                  13   \n3                               3                   28                   8   \n4                               3                   30                  11   \n...                           ...                  ...                 ...   \n24220                           0                   27                   1   \n24221                           4                   29                   5   \n24222                           1                   25                  16   \n24223                           4                   27                  15   \n24224                           5                   31                  13   \n\n       blueTeamDragonKills  blueTeamHeraldKills  blueTeamTowersDestroyed  \\\n0                        2                    0                        0   \n1                        1                    0                        1   \n2                        0                    0                        0   \n3                        0                    1                        1   \n4                        1                    1                        1   \n...                    ...                  ...                      ...   \n24220                    1                    0                        0   \n24221                    0                    0                        0   \n24222                    1                    1                        1   \n24223                    0                    0                        1   \n24224                    1                    0                        1   \n\n       blueTeamInhibitorsDestroyed  blueTeamTurretPlatesDestroyed  FirstBlood  \\\n0                                0                              7           0   \n1                                0                             10           0   \n2                                0                             11           0   \n3                                0                              9           1   \n4                                0                              7           0   \n...                            ...                            ...         ...   \n24220                            0                              5           0   \n24221                            0                              4           0   \n24222                            0                             11           0   \n24223                            0                              9           0   \n24224                            0                              2           1   \n\n       blueTeamMinionsKilled  ...  redTeamHeraldKills  redTeamTowersDestroyed  \\\n0                        388  ...                   0                       2   \n1                        348  ...                   0                       1   \n2                        331  ...                   0                       2   \n3                        355  ...                   0                       0   \n4                        370  ...                   0                       1   \n...                      ...  ...                 ...                     ...   \n24220                    282  ...                   0                       0   \n24221                    323  ...                   0                       1   \n24222                    300  ...                   0                       1   \n24223                    364  ...                   0                       2   \n24224                    384  ...                   0                       0   \n\n       redTeamInhibitorsDestroyed  redTeamTurretPlatesDestroyed  \\\n0                               0                             1   \n1                               0                             4   \n2                               0                             3   \n3                               0                             5   \n4                               0                             5   \n...                           ...                           ...   \n24220                           0                             0   \n24221                           0                             2   \n24222                           0                             4   \n24223                           0                             2   \n24224                           0                             5   \n\n       redTeamMinionsKilled  redTeamJungleMinions  redTeamTotalGold  \\\n0                       400                    94             29637   \n1                       373                    76             28970   \n2                       340                    84             30510   \n3                       378                    87             25157   \n4                       382                    96             26052   \n...                     ...                   ...               ...   \n24220                   370                   102             26134   \n24221                   365                    80             25169   \n24222                   342                    81             30528   \n24223                   341                    74             31761   \n24224                   329                    79             25466   \n\n       redTeamXp  redTeamTotalDamageToChamps  winner  \n0          32613                       27239       1  \n1          30320                       36585       0  \n2          29464                       42984       0  \n3          31069                       28229       0  \n4          29475                       19245       1  \n...          ...                         ...     ...  \n24220      30760                       22845       0  \n24221      30857                       29694       0  \n24222      29566                       36545       0  \n24223      30573                       42858       0  \n24224      29127                       23741       1  \n\n[24225 rows x 28 columns]",
      "text/html": "<div>\n<style scoped>\n    .dataframe tbody tr th:only-of-type {\n        vertical-align: middle;\n    }\n\n    .dataframe tbody tr th {\n        vertical-align: top;\n    }\n\n    .dataframe thead th {\n        text-align: right;\n    }\n</style>\n<table border=\"1\" class=\"dataframe\">\n  <thead>\n    <tr style=\"text-align: right;\">\n      <th></th>\n      <th>blueTeamControlWardsPlaced</th>\n      <th>blueTeamWardsPlaced</th>\n      <th>blueTeamTotalKills</th>\n      <th>blueTeamDragonKills</th>\n      <th>blueTeamHeraldKills</th>\n      <th>blueTeamTowersDestroyed</th>\n      <th>blueTeamInhibitorsDestroyed</th>\n      <th>blueTeamTurretPlatesDestroyed</th>\n      <th>FirstBlood</th>\n      <th>blueTeamMinionsKilled</th>\n      <th>...</th>\n      <th>redTeamHeraldKills</th>\n      <th>redTeamTowersDestroyed</th>\n      <th>redTeamInhibitorsDestroyed</th>\n      <th>redTeamTurretPlatesDestroyed</th>\n      <th>redTeamMinionsKilled</th>\n      <th>redTeamJungleMinions</th>\n      <th>redTeamTotalGold</th>\n      <th>redTeamXp</th>\n      <th>redTeamTotalDamageToChamps</th>\n      <th>winner</th>\n    </tr>\n  </thead>\n  <tbody>\n    <tr>\n      <th>0</th>\n      <td>2</td>\n      <td>23</td>\n      <td>4</td>\n      <td>2</td>\n      <td>0</td>\n      <td>0</td>\n      <td>0</td>\n      <td>7</td>\n      <td>0</td>\n      <td>388</td>\n      <td>...</td>\n      <td>0</td>\n      <td>2</td>\n      <td>0</td>\n      <td>1</td>\n      <td>400</td>\n      <td>94</td>\n      <td>29637</td>\n      <td>32613</td>\n      <td>27239</td>\n      <td>1</td>\n    </tr>\n    <tr>\n      <th>1</th>\n      <td>2</td>\n      <td>46</td>\n      <td>12</td>\n      <td>1</td>\n      <td>0</td>\n      <td>1</td>\n      <td>0</td>\n      <td>10</td>\n      <td>0</td>\n      <td>348</td>\n      <td>...</td>\n      <td>0</td>\n      <td>1</td>\n      <td>0</td>\n      <td>4</td>\n      <td>373</td>\n      <td>76</td>\n      <td>28970</td>\n      <td>30320</td>\n      <td>36585</td>\n      <td>0</td>\n    </tr>\n    <tr>\n      <th>2</th>\n      <td>2</td>\n      <td>19</td>\n      <td>13</td>\n      <td>0</td>\n      <td>0</td>\n      <td>0</td>\n      <td>0</td>\n      <td>11</td>\n      <td>0</td>\n      <td>331</td>\n      <td>...</td>\n      <td>0</td>\n      <td>2</td>\n      <td>0</td>\n      <td>3</td>\n      <td>340</td>\n      <td>84</td>\n      <td>30510</td>\n      <td>29464</td>\n      <td>42984</td>\n      <td>0</td>\n    </tr>\n    <tr>\n      <th>3</th>\n      <td>3</td>\n      <td>28</td>\n      <td>8</td>\n      <td>0</td>\n      <td>1</td>\n      <td>1</td>\n      <td>0</td>\n      <td>9</td>\n      <td>1</td>\n      <td>355</td>\n      <td>...</td>\n      <td>0</td>\n      <td>0</td>\n      <td>0</td>\n      <td>5</td>\n      <td>378</td>\n      <td>87</td>\n      <td>25157</td>\n      <td>31069</td>\n      <td>28229</td>\n      <td>0</td>\n    </tr>\n    <tr>\n      <th>4</th>\n      <td>3</td>\n      <td>30</td>\n      <td>11</td>\n      <td>1</td>\n      <td>1</td>\n      <td>1</td>\n      <td>0</td>\n      <td>7</td>\n      <td>0</td>\n      <td>370</td>\n      <td>...</td>\n      <td>0</td>\n      <td>1</td>\n      <td>0</td>\n      <td>5</td>\n      <td>382</td>\n      <td>96</td>\n      <td>26052</td>\n      <td>29475</td>\n      <td>19245</td>\n      <td>1</td>\n    </tr>\n    <tr>\n      <th>...</th>\n      <td>...</td>\n      <td>...</td>\n      <td>...</td>\n      <td>...</td>\n      <td>...</td>\n      <td>...</td>\n      <td>...</td>\n      <td>...</td>\n      <td>...</td>\n      <td>...</td>\n      <td>...</td>\n      <td>...</td>\n      <td>...</td>\n      <td>...</td>\n      <td>...</td>\n      <td>...</td>\n      <td>...</td>\n      <td>...</td>\n      <td>...</td>\n      <td>...</td>\n      <td>...</td>\n    </tr>\n    <tr>\n      <th>24220</th>\n      <td>0</td>\n      <td>27</td>\n      <td>1</td>\n      <td>1</td>\n      <td>0</td>\n      <td>0</td>\n      <td>0</td>\n      <td>5</td>\n      <td>0</td>\n      <td>282</td>\n      <td>...</td>\n      <td>0</td>\n      <td>0</td>\n      <td>0</td>\n      <td>0</td>\n      <td>370</td>\n      <td>102</td>\n      <td>26134</td>\n      <td>30760</td>\n      <td>22845</td>\n      <td>0</td>\n    </tr>\n    <tr>\n      <th>24221</th>\n      <td>4</td>\n      <td>29</td>\n      <td>5</td>\n      <td>0</td>\n      <td>0</td>\n      <td>0</td>\n      <td>0</td>\n      <td>4</td>\n      <td>0</td>\n      <td>323</td>\n      <td>...</td>\n      <td>0</td>\n      <td>1</td>\n      <td>0</td>\n      <td>2</td>\n      <td>365</td>\n      <td>80</td>\n      <td>25169</td>\n      <td>30857</td>\n      <td>29694</td>\n      <td>0</td>\n    </tr>\n    <tr>\n      <th>24222</th>\n      <td>1</td>\n      <td>25</td>\n      <td>16</td>\n      <td>1</td>\n      <td>1</td>\n      <td>1</td>\n      <td>0</td>\n      <td>11</td>\n      <td>0</td>\n      <td>300</td>\n      <td>...</td>\n      <td>0</td>\n      <td>1</td>\n      <td>0</td>\n      <td>4</td>\n      <td>342</td>\n      <td>81</td>\n      <td>30528</td>\n      <td>29566</td>\n      <td>36545</td>\n      <td>0</td>\n    </tr>\n    <tr>\n      <th>24223</th>\n      <td>4</td>\n      <td>27</td>\n      <td>15</td>\n      <td>0</td>\n      <td>0</td>\n      <td>1</td>\n      <td>0</td>\n      <td>9</td>\n      <td>0</td>\n      <td>364</td>\n      <td>...</td>\n      <td>0</td>\n      <td>2</td>\n      <td>0</td>\n      <td>2</td>\n      <td>341</td>\n      <td>74</td>\n      <td>31761</td>\n      <td>30573</td>\n      <td>42858</td>\n      <td>0</td>\n    </tr>\n    <tr>\n      <th>24224</th>\n      <td>5</td>\n      <td>31</td>\n      <td>13</td>\n      <td>1</td>\n      <td>0</td>\n      <td>1</td>\n      <td>0</td>\n      <td>2</td>\n      <td>1</td>\n      <td>384</td>\n      <td>...</td>\n      <td>0</td>\n      <td>0</td>\n      <td>0</td>\n      <td>5</td>\n      <td>329</td>\n      <td>79</td>\n      <td>25466</td>\n      <td>29127</td>\n      <td>23741</td>\n      <td>1</td>\n    </tr>\n  </tbody>\n</table>\n<p>24225 rows × 28 columns</p>\n</div>"
     },
     "execution_count": 30,
     "metadata": {},
     "output_type": "execute_result"
    }
   ],
   "source": [
    "df.drop(\"placeholder\",axis=1, inplace=True)\n",
    "df.drop(\"matchId\",axis=1, inplace=True)\n",
    "df"
   ],
   "metadata": {
    "collapsed": false,
    "ExecuteTime": {
     "end_time": "2024-04-13T18:26:41.132130Z",
     "start_time": "2024-04-13T18:26:41.110536Z"
    }
   },
   "id": "d0c9a426b7bcca69",
   "execution_count": 30
  },
  {
   "cell_type": "code",
   "outputs": [],
   "source": [
    "from sklearn.ensemble import RandomForestClassifier\n",
    "from sklearn.model_selection import train_test_split"
   ],
   "metadata": {
    "collapsed": false,
    "ExecuteTime": {
     "end_time": "2024-04-13T18:28:08.527135Z",
     "start_time": "2024-04-13T18:28:06.707942Z"
    }
   },
   "id": "24ca80b11e131973",
   "execution_count": 31
  },
  {
   "cell_type": "code",
   "outputs": [],
   "source": [
    "x = df.drop(\"winner\", axis=1)\n",
    "y = df[\"winner\"]"
   ],
   "metadata": {
    "collapsed": false,
    "ExecuteTime": {
     "end_time": "2024-04-13T18:30:41.787123Z",
     "start_time": "2024-04-13T18:30:41.781754Z"
    }
   },
   "id": "c0e86f701d9ebba9",
   "execution_count": 34
  },
  {
   "cell_type": "code",
   "outputs": [],
   "source": [
    "np.random.seed(60)\n",
    "model = RandomForestClassifier()\n",
    "x_train, x_test, y_train, y_test = train_test_split(x, y, test_size=0.2)"
   ],
   "metadata": {
    "collapsed": false,
    "ExecuteTime": {
     "end_time": "2024-04-13T18:38:03.710495Z",
     "start_time": "2024-04-13T18:38:03.699484Z"
    }
   },
   "id": "78bf926731ed8c69",
   "execution_count": 40
  },
  {
   "cell_type": "code",
   "outputs": [
    {
     "data": {
      "text/plain": "RandomForestClassifier()",
      "text/html": "<style>#sk-container-id-2 {\n  /* Definition of color scheme common for light and dark mode */\n  --sklearn-color-text: black;\n  --sklearn-color-line: gray;\n  /* Definition of color scheme for unfitted estimators */\n  --sklearn-color-unfitted-level-0: #fff5e6;\n  --sklearn-color-unfitted-level-1: #f6e4d2;\n  --sklearn-color-unfitted-level-2: #ffe0b3;\n  --sklearn-color-unfitted-level-3: chocolate;\n  /* Definition of color scheme for fitted estimators */\n  --sklearn-color-fitted-level-0: #f0f8ff;\n  --sklearn-color-fitted-level-1: #d4ebff;\n  --sklearn-color-fitted-level-2: #b3dbfd;\n  --sklearn-color-fitted-level-3: cornflowerblue;\n\n  /* Specific color for light theme */\n  --sklearn-color-text-on-default-background: var(--sg-text-color, var(--theme-code-foreground, var(--jp-content-font-color1, black)));\n  --sklearn-color-background: var(--sg-background-color, var(--theme-background, var(--jp-layout-color0, white)));\n  --sklearn-color-border-box: var(--sg-text-color, var(--theme-code-foreground, var(--jp-content-font-color1, black)));\n  --sklearn-color-icon: #696969;\n\n  @media (prefers-color-scheme: dark) {\n    /* Redefinition of color scheme for dark theme */\n    --sklearn-color-text-on-default-background: var(--sg-text-color, var(--theme-code-foreground, var(--jp-content-font-color1, white)));\n    --sklearn-color-background: var(--sg-background-color, var(--theme-background, var(--jp-layout-color0, #111)));\n    --sklearn-color-border-box: var(--sg-text-color, var(--theme-code-foreground, var(--jp-content-font-color1, white)));\n    --sklearn-color-icon: #878787;\n  }\n}\n\n#sk-container-id-2 {\n  color: var(--sklearn-color-text);\n}\n\n#sk-container-id-2 pre {\n  padding: 0;\n}\n\n#sk-container-id-2 input.sk-hidden--visually {\n  border: 0;\n  clip: rect(1px 1px 1px 1px);\n  clip: rect(1px, 1px, 1px, 1px);\n  height: 1px;\n  margin: -1px;\n  overflow: hidden;\n  padding: 0;\n  position: absolute;\n  width: 1px;\n}\n\n#sk-container-id-2 div.sk-dashed-wrapped {\n  border: 1px dashed var(--sklearn-color-line);\n  margin: 0 0.4em 0.5em 0.4em;\n  box-sizing: border-box;\n  padding-bottom: 0.4em;\n  background-color: var(--sklearn-color-background);\n}\n\n#sk-container-id-2 div.sk-container {\n  /* jupyter's `normalize.less` sets `[hidden] { display: none; }`\n     but bootstrap.min.css set `[hidden] { display: none !important; }`\n     so we also need the `!important` here to be able to override the\n     default hidden behavior on the sphinx rendered scikit-learn.org.\n     See: https://github.com/scikit-learn/scikit-learn/issues/21755 */\n  display: inline-block !important;\n  position: relative;\n}\n\n#sk-container-id-2 div.sk-text-repr-fallback {\n  display: none;\n}\n\ndiv.sk-parallel-item,\ndiv.sk-serial,\ndiv.sk-item {\n  /* draw centered vertical line to link estimators */\n  background-image: linear-gradient(var(--sklearn-color-text-on-default-background), var(--sklearn-color-text-on-default-background));\n  background-size: 2px 100%;\n  background-repeat: no-repeat;\n  background-position: center center;\n}\n\n/* Parallel-specific style estimator block */\n\n#sk-container-id-2 div.sk-parallel-item::after {\n  content: \"\";\n  width: 100%;\n  border-bottom: 2px solid var(--sklearn-color-text-on-default-background);\n  flex-grow: 1;\n}\n\n#sk-container-id-2 div.sk-parallel {\n  display: flex;\n  align-items: stretch;\n  justify-content: center;\n  background-color: var(--sklearn-color-background);\n  position: relative;\n}\n\n#sk-container-id-2 div.sk-parallel-item {\n  display: flex;\n  flex-direction: column;\n}\n\n#sk-container-id-2 div.sk-parallel-item:first-child::after {\n  align-self: flex-end;\n  width: 50%;\n}\n\n#sk-container-id-2 div.sk-parallel-item:last-child::after {\n  align-self: flex-start;\n  width: 50%;\n}\n\n#sk-container-id-2 div.sk-parallel-item:only-child::after {\n  width: 0;\n}\n\n/* Serial-specific style estimator block */\n\n#sk-container-id-2 div.sk-serial {\n  display: flex;\n  flex-direction: column;\n  align-items: center;\n  background-color: var(--sklearn-color-background);\n  padding-right: 1em;\n  padding-left: 1em;\n}\n\n\n/* Toggleable style: style used for estimator/Pipeline/ColumnTransformer box that is\nclickable and can be expanded/collapsed.\n- Pipeline and ColumnTransformer use this feature and define the default style\n- Estimators will overwrite some part of the style using the `sk-estimator` class\n*/\n\n/* Pipeline and ColumnTransformer style (default) */\n\n#sk-container-id-2 div.sk-toggleable {\n  /* Default theme specific background. It is overwritten whether we have a\n  specific estimator or a Pipeline/ColumnTransformer */\n  background-color: var(--sklearn-color-background);\n}\n\n/* Toggleable label */\n#sk-container-id-2 label.sk-toggleable__label {\n  cursor: pointer;\n  display: block;\n  width: 100%;\n  margin-bottom: 0;\n  padding: 0.5em;\n  box-sizing: border-box;\n  text-align: center;\n}\n\n#sk-container-id-2 label.sk-toggleable__label-arrow:before {\n  /* Arrow on the left of the label */\n  content: \"▸\";\n  float: left;\n  margin-right: 0.25em;\n  color: var(--sklearn-color-icon);\n}\n\n#sk-container-id-2 label.sk-toggleable__label-arrow:hover:before {\n  color: var(--sklearn-color-text);\n}\n\n/* Toggleable content - dropdown */\n\n#sk-container-id-2 div.sk-toggleable__content {\n  max-height: 0;\n  max-width: 0;\n  overflow: hidden;\n  text-align: left;\n  /* unfitted */\n  background-color: var(--sklearn-color-unfitted-level-0);\n}\n\n#sk-container-id-2 div.sk-toggleable__content.fitted {\n  /* fitted */\n  background-color: var(--sklearn-color-fitted-level-0);\n}\n\n#sk-container-id-2 div.sk-toggleable__content pre {\n  margin: 0.2em;\n  border-radius: 0.25em;\n  color: var(--sklearn-color-text);\n  /* unfitted */\n  background-color: var(--sklearn-color-unfitted-level-0);\n}\n\n#sk-container-id-2 div.sk-toggleable__content.fitted pre {\n  /* unfitted */\n  background-color: var(--sklearn-color-fitted-level-0);\n}\n\n#sk-container-id-2 input.sk-toggleable__control:checked~div.sk-toggleable__content {\n  /* Expand drop-down */\n  max-height: 200px;\n  max-width: 100%;\n  overflow: auto;\n}\n\n#sk-container-id-2 input.sk-toggleable__control:checked~label.sk-toggleable__label-arrow:before {\n  content: \"▾\";\n}\n\n/* Pipeline/ColumnTransformer-specific style */\n\n#sk-container-id-2 div.sk-label input.sk-toggleable__control:checked~label.sk-toggleable__label {\n  color: var(--sklearn-color-text);\n  background-color: var(--sklearn-color-unfitted-level-2);\n}\n\n#sk-container-id-2 div.sk-label.fitted input.sk-toggleable__control:checked~label.sk-toggleable__label {\n  background-color: var(--sklearn-color-fitted-level-2);\n}\n\n/* Estimator-specific style */\n\n/* Colorize estimator box */\n#sk-container-id-2 div.sk-estimator input.sk-toggleable__control:checked~label.sk-toggleable__label {\n  /* unfitted */\n  background-color: var(--sklearn-color-unfitted-level-2);\n}\n\n#sk-container-id-2 div.sk-estimator.fitted input.sk-toggleable__control:checked~label.sk-toggleable__label {\n  /* fitted */\n  background-color: var(--sklearn-color-fitted-level-2);\n}\n\n#sk-container-id-2 div.sk-label label.sk-toggleable__label,\n#sk-container-id-2 div.sk-label label {\n  /* The background is the default theme color */\n  color: var(--sklearn-color-text-on-default-background);\n}\n\n/* On hover, darken the color of the background */\n#sk-container-id-2 div.sk-label:hover label.sk-toggleable__label {\n  color: var(--sklearn-color-text);\n  background-color: var(--sklearn-color-unfitted-level-2);\n}\n\n/* Label box, darken color on hover, fitted */\n#sk-container-id-2 div.sk-label.fitted:hover label.sk-toggleable__label.fitted {\n  color: var(--sklearn-color-text);\n  background-color: var(--sklearn-color-fitted-level-2);\n}\n\n/* Estimator label */\n\n#sk-container-id-2 div.sk-label label {\n  font-family: monospace;\n  font-weight: bold;\n  display: inline-block;\n  line-height: 1.2em;\n}\n\n#sk-container-id-2 div.sk-label-container {\n  text-align: center;\n}\n\n/* Estimator-specific */\n#sk-container-id-2 div.sk-estimator {\n  font-family: monospace;\n  border: 1px dotted var(--sklearn-color-border-box);\n  border-radius: 0.25em;\n  box-sizing: border-box;\n  margin-bottom: 0.5em;\n  /* unfitted */\n  background-color: var(--sklearn-color-unfitted-level-0);\n}\n\n#sk-container-id-2 div.sk-estimator.fitted {\n  /* fitted */\n  background-color: var(--sklearn-color-fitted-level-0);\n}\n\n/* on hover */\n#sk-container-id-2 div.sk-estimator:hover {\n  /* unfitted */\n  background-color: var(--sklearn-color-unfitted-level-2);\n}\n\n#sk-container-id-2 div.sk-estimator.fitted:hover {\n  /* fitted */\n  background-color: var(--sklearn-color-fitted-level-2);\n}\n\n/* Specification for estimator info (e.g. \"i\" and \"?\") */\n\n/* Common style for \"i\" and \"?\" */\n\n.sk-estimator-doc-link,\na:link.sk-estimator-doc-link,\na:visited.sk-estimator-doc-link {\n  float: right;\n  font-size: smaller;\n  line-height: 1em;\n  font-family: monospace;\n  background-color: var(--sklearn-color-background);\n  border-radius: 1em;\n  height: 1em;\n  width: 1em;\n  text-decoration: none !important;\n  margin-left: 1ex;\n  /* unfitted */\n  border: var(--sklearn-color-unfitted-level-1) 1pt solid;\n  color: var(--sklearn-color-unfitted-level-1);\n}\n\n.sk-estimator-doc-link.fitted,\na:link.sk-estimator-doc-link.fitted,\na:visited.sk-estimator-doc-link.fitted {\n  /* fitted */\n  border: var(--sklearn-color-fitted-level-1) 1pt solid;\n  color: var(--sklearn-color-fitted-level-1);\n}\n\n/* On hover */\ndiv.sk-estimator:hover .sk-estimator-doc-link:hover,\n.sk-estimator-doc-link:hover,\ndiv.sk-label-container:hover .sk-estimator-doc-link:hover,\n.sk-estimator-doc-link:hover {\n  /* unfitted */\n  background-color: var(--sklearn-color-unfitted-level-3);\n  color: var(--sklearn-color-background);\n  text-decoration: none;\n}\n\ndiv.sk-estimator.fitted:hover .sk-estimator-doc-link.fitted:hover,\n.sk-estimator-doc-link.fitted:hover,\ndiv.sk-label-container:hover .sk-estimator-doc-link.fitted:hover,\n.sk-estimator-doc-link.fitted:hover {\n  /* fitted */\n  background-color: var(--sklearn-color-fitted-level-3);\n  color: var(--sklearn-color-background);\n  text-decoration: none;\n}\n\n/* Span, style for the box shown on hovering the info icon */\n.sk-estimator-doc-link span {\n  display: none;\n  z-index: 9999;\n  position: relative;\n  font-weight: normal;\n  right: .2ex;\n  padding: .5ex;\n  margin: .5ex;\n  width: min-content;\n  min-width: 20ex;\n  max-width: 50ex;\n  color: var(--sklearn-color-text);\n  box-shadow: 2pt 2pt 4pt #999;\n  /* unfitted */\n  background: var(--sklearn-color-unfitted-level-0);\n  border: .5pt solid var(--sklearn-color-unfitted-level-3);\n}\n\n.sk-estimator-doc-link.fitted span {\n  /* fitted */\n  background: var(--sklearn-color-fitted-level-0);\n  border: var(--sklearn-color-fitted-level-3);\n}\n\n.sk-estimator-doc-link:hover span {\n  display: block;\n}\n\n/* \"?\"-specific style due to the `<a>` HTML tag */\n\n#sk-container-id-2 a.estimator_doc_link {\n  float: right;\n  font-size: 1rem;\n  line-height: 1em;\n  font-family: monospace;\n  background-color: var(--sklearn-color-background);\n  border-radius: 1rem;\n  height: 1rem;\n  width: 1rem;\n  text-decoration: none;\n  /* unfitted */\n  color: var(--sklearn-color-unfitted-level-1);\n  border: var(--sklearn-color-unfitted-level-1) 1pt solid;\n}\n\n#sk-container-id-2 a.estimator_doc_link.fitted {\n  /* fitted */\n  border: var(--sklearn-color-fitted-level-1) 1pt solid;\n  color: var(--sklearn-color-fitted-level-1);\n}\n\n/* On hover */\n#sk-container-id-2 a.estimator_doc_link:hover {\n  /* unfitted */\n  background-color: var(--sklearn-color-unfitted-level-3);\n  color: var(--sklearn-color-background);\n  text-decoration: none;\n}\n\n#sk-container-id-2 a.estimator_doc_link.fitted:hover {\n  /* fitted */\n  background-color: var(--sklearn-color-fitted-level-3);\n}\n</style><div id=\"sk-container-id-2\" class=\"sk-top-container\"><div class=\"sk-text-repr-fallback\"><pre>RandomForestClassifier()</pre><b>In a Jupyter environment, please rerun this cell to show the HTML representation or trust the notebook. <br />On GitHub, the HTML representation is unable to render, please try loading this page with nbviewer.org.</b></div><div class=\"sk-container\" hidden><div class=\"sk-item\"><div class=\"sk-estimator fitted sk-toggleable\"><input class=\"sk-toggleable__control sk-hidden--visually\" id=\"sk-estimator-id-2\" type=\"checkbox\" checked><label for=\"sk-estimator-id-2\" class=\"sk-toggleable__label fitted sk-toggleable__label-arrow fitted\">&nbsp;&nbsp;RandomForestClassifier<a class=\"sk-estimator-doc-link fitted\" rel=\"noreferrer\" target=\"_blank\" href=\"https://scikit-learn.org/1.4/modules/generated/sklearn.ensemble.RandomForestClassifier.html\">?<span>Documentation for RandomForestClassifier</span></a><span class=\"sk-estimator-doc-link fitted\">i<span>Fitted</span></span></label><div class=\"sk-toggleable__content fitted\"><pre>RandomForestClassifier()</pre></div> </div></div></div></div>"
     },
     "execution_count": 41,
     "metadata": {},
     "output_type": "execute_result"
    }
   ],
   "source": [
    "model.fit(x_train, y_train)"
   ],
   "metadata": {
    "collapsed": false,
    "ExecuteTime": {
     "end_time": "2024-04-13T18:38:11.276885Z",
     "start_time": "2024-04-13T18:38:05.738684Z"
    }
   },
   "id": "d5d40465458c20c5",
   "execution_count": 41
  },
  {
   "cell_type": "code",
   "outputs": [
    {
     "data": {
      "text/plain": "0.7547987616099071"
     },
     "execution_count": 42,
     "metadata": {},
     "output_type": "execute_result"
    }
   ],
   "source": [
    "model.score(x_test, y_test)"
   ],
   "metadata": {
    "collapsed": false,
    "ExecuteTime": {
     "end_time": "2024-04-13T18:38:13.235242Z",
     "start_time": "2024-04-13T18:38:13.142110Z"
    }
   },
   "id": "5a77b5e5f5f2c901",
   "execution_count": 42
  },
  {
   "cell_type": "code",
   "outputs": [
    {
     "data": {
      "text/plain": "1.0"
     },
     "execution_count": 43,
     "metadata": {},
     "output_type": "execute_result"
    }
   ],
   "source": [
    "model.score(x_train, y_train)"
   ],
   "metadata": {
    "collapsed": false,
    "ExecuteTime": {
     "end_time": "2024-04-13T18:43:04.311901Z",
     "start_time": "2024-04-13T18:43:03.991662Z"
    }
   },
   "id": "a3db4ac6d0648107",
   "execution_count": 43
  },
  {
   "cell_type": "code",
   "outputs": [],
   "source": [],
   "metadata": {
    "collapsed": false
   },
   "id": "ccbf0de5ecd31391"
  }
 ],
 "metadata": {
  "kernelspec": {
   "display_name": "Python 3",
   "language": "python",
   "name": "python3"
  },
  "language_info": {
   "codemirror_mode": {
    "name": "ipython",
    "version": 2
   },
   "file_extension": ".py",
   "mimetype": "text/x-python",
   "name": "python",
   "nbconvert_exporter": "python",
   "pygments_lexer": "ipython2",
   "version": "2.7.6"
  }
 },
 "nbformat": 4,
 "nbformat_minor": 5
}
